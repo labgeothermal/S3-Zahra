{
  "nbformat": 4,
  "nbformat_minor": 0,
  "metadata": {
    "colab": {
      "name": "PCA_iris.ipynb",
      "provenance": [],
      "authorship_tag": "ABX9TyNhzlitxqB00D/cfhds54Xe",
      "include_colab_link": true
    },
    "kernelspec": {
      "name": "python3",
      "display_name": "Python 3"
    },
    "language_info": {
      "name": "python"
    }
  },
  "cells": [
    {
      "cell_type": "markdown",
      "metadata": {
        "id": "view-in-github",
        "colab_type": "text"
      },
      "source": [
        "<a href=\"https://colab.research.google.com/github/labgeothermal/S3-Zahra/blob/main/PCA_iris.ipynb\" target=\"_parent\"><img src=\"https://colab.research.google.com/assets/colab-badge.svg\" alt=\"Open In Colab\"/></a>"
      ]
    },
    {
      "cell_type": "markdown",
      "source": [
        "# PCA with Iris Dataset"
      ],
      "metadata": {
        "id": "yATNm-H0pjjr"
      }
    },
    {
      "cell_type": "code",
      "source": [
        ""
      ],
      "metadata": {
        "id": "9PM-42odpnga"
      },
      "execution_count": null,
      "outputs": []
    }
  ]
}